{
 "cells": [
  {
   "cell_type": "markdown",
   "metadata": {},
   "source": [
    "Phase 1 Naive Bayes"
   ]
  },
  {
   "cell_type": "code",
   "execution_count": 6,
   "metadata": {},
   "outputs": [],
   "source": [
    "import numpy as np\n",
    "import re\n",
    "\n",
    "train_data,train_label=np.load(\"data_train.pkl/data_train.pkl\",allow_pickle=True)\n",
    "test_data=np.load(\"data_test.pkl/data_test.pkl\",allow_pickle=True)\n",
    "train_data_set=train_data[:65]\n",
    "train_label_set=train_label[:65]\n",
    "# #test_input=np.array(test_data)\n",
    "test_input_10=train_data[-5000:]\n",
    "test_label_10=train_label[-5000:]\n",
    "\n",
    "labels = ['anime', 'nfl', 'soccer', 'canada', 'Overwatch', 'leagueoflegends', 'europe', 'worldnews', 'wow', 'Music', 'nba', 'funny', 'movies', 'baseball', 'hockey', 'GlobalOffensive', 'trees', 'gameofthrones', 'conspiracy', 'AskReddit']\n",
    "\n",
    "\n",
    "\n"
   ]
  },
  {
   "cell_type": "code",
   "execution_count": 7,
   "metadata": {},
   "outputs": [],
   "source": [
    "# from sklearn.naive_bayes import GaussianNB\n",
    "# gnb = GaussianNB()\n",
    "# gnb.fit(train_data_set, train_label_set).predict(train_label_set)\n"
   ]
  },
  {
   "cell_type": "code",
   "execution_count": 8,
   "metadata": {},
   "outputs": [],
   "source": [
    "import scipy.sparse as sp\n",
    "import nltk\n",
    "from nltk.stem import SnowballStemmer\n",
    "snowball_stemmer = SnowballStemmer('english')\n",
    "from nltk.corpus import stopwords\n",
    "stopWords = set(stopwords.words('english'))\n"
   ]
  },
  {
   "cell_type": "code",
   "execution_count": 9,
   "metadata": {},
   "outputs": [
    {
     "ename": "SyntaxError",
     "evalue": "invalid syntax (<ipython-input-9-c613d2d7b5dc>, line 2)",
     "output_type": "error",
     "traceback": [
      "\u001b[1;36m  File \u001b[1;32m\"<ipython-input-9-c613d2d7b5dc>\"\u001b[1;36m, line \u001b[1;32m2\u001b[0m\n\u001b[1;33m    for doc in in :\u001b[0m\n\u001b[1;37m                ^\u001b[0m\n\u001b[1;31mSyntaxError\u001b[0m\u001b[1;31m:\u001b[0m invalid syntax\n"
     ]
    }
   ],
   "source": [
    "unique_words = []\n",
    "for doc in in : \n",
    "    doc = re.sub(\"[^0-9a-zA-Z]+\", ' ', doc).strip() #removing special characters\n",
    "    print(doc)\n",
    "    for word in doc.split(\" \"):\n",
    "        word = snowball_stemmer.stem(word)\n",
    "        if word not in stopWords:\n",
    "            unique_words.append(word) "
   ]
  },
  {
   "cell_type": "code",
   "execution_count": null,
   "metadata": {},
   "outputs": [],
   "source": [
    "#creating bag of words for the training set\n",
    "\n",
    "#scanning through training set to collect all words \n",
    "unique_words = []\n",
    "for doc in train_input_10: \n",
    "    doc = re.sub(\"[^0-9a-zA-Z]+\", ' ', doc).strip() #removing special characters\n",
    "    for word in doc.split(\" \"):\n",
    "        word = snowball_stemmer.stem(word)\n",
    "        if word not in stopWords:\n",
    "            unique_words.append(word) \n",
    "unique_words=list(set(unique_words)) #returns a list of unique words\n",
    "\n",
    "bow=sp.csr_matrix((0,len(unique_words)))\n",
    "bow_test=sp.csr_matrix((0,len(unique_words)))"
   ]
  },
  {
   "cell_type": "code",
   "execution_count": null,
   "metadata": {},
   "outputs": [],
   "source": [
    "unique_words = []\n",
    "for doc in train_input_10: \n",
    "    doc = re.sub(\"[^0-9a-zA-Z]+\", ' ', doc).strip() #removing special characters\n",
    "    for word in doc.split(\" \"):\n",
    "        word = snowball_stemmer.stem(word)\n",
    "        if word not in stopWords:\n",
    "            unique_words.append(word) "
   ]
  },
  {
   "cell_type": "code",
   "execution_count": null,
   "metadata": {},
   "outputs": [],
   "source": [
    "\n",
    "#creating bag of words for the training set\n",
    "dictionary={word:i for i,word in enumerate(unique_words)}\n",
    "\n",
    "for doc in train_input_10:\n",
    "    doc_features=np.zeros(len(unique_words)) #initializing \n",
    "    doc = re.sub(\"[^0-9a-zA-Z]+\", ' ', doc).strip()#removing special characters\n",
    "    for word in doc.split(\" \"):\n",
    "        if word not in stopWords:\n",
    "            word = snowball_stemmer.stem(word)\n",
    "            if word in dictionary:\n",
    "                doc_features[dictionary[word]]+=1\n",
    "            else:\n",
    "                continue\n",
    "    bow=sp.vstack((bow,sp.csr_matrix(doc_features)))\n",
    "    \n"
   ]
  },
  {
   "cell_type": "code",
   "execution_count": null,
   "metadata": {},
   "outputs": [],
   "source": [
    "doc_features.shape"
   ]
  },
  {
   "cell_type": "code",
   "execution_count": null,
   "metadata": {},
   "outputs": [],
   "source": []
  },
  {
   "cell_type": "code",
   "execution_count": null,
   "metadata": {},
   "outputs": [],
   "source": [
    "#creating bag of words for the testing set \n",
    "\n",
    "for doc in test_input_10:\n",
    "    doc = re.sub(\"[^0-9a-zA-Z]+\", ' ', doc).strip() #removing special characters\n",
    "    doc_features=np.zeros(len(unique_words)) #initializing \n",
    "    for word in doc.split(\" \"):\n",
    "        word = snowball_stemmer.stem(word)\n",
    "        if word in dictionary:\n",
    "            doc_features[\n",
    "                \n",
    "                [word]]+=1\n",
    "        else:\n",
    "            continue\n",
    "    bow_test=sp.vstack((bow_test,sp.csr_matrix(doc_features)))\n",
    "\n",
    "    #bow_test=sp.csr_matrix.toarray(bow_test)\n",
    "bow_test=bow_test.A"
   ]
  },
  {
   "cell_type": "code",
   "execution_count": null,
   "metadata": {},
   "outputs": [],
   "source": [
    "bow_test.shape"
   ]
  },
  {
   "cell_type": "code",
   "execution_count": null,
   "metadata": {},
   "outputs": [],
   "source": [
    "#computing priors\n",
    "\n",
    "doc_locations=[]\n",
    "prior=np.zeros(len(labels))\n",
    "for i,elem in enumerate(labels):\n",
    "    elem_index=np.where(train_label_10==elem)\n",
    "    doc_locations.append(elem_index[0])\n",
    "    elem_len =len(elem_index[0])\n",
    "#     elem_prior=elem_len/train_label_10.shape[0]\n",
    "    elem_prior=elem_len/len(train_label_10)\n",
    "    prior[i]=elem_prior\n"
   ]
  },
  {
   "cell_type": "code",
   "execution_count": null,
   "metadata": {},
   "outputs": [],
   "source": []
  },
  {
   "cell_type": "code",
   "execution_count": null,
   "metadata": {},
   "outputs": [],
   "source": [
    "#computing conditional probability, multinomial \n",
    "\n",
    "alpha_group=[0.2657]\n",
    "\n",
    "alpha_group_pred_rate=[]\n",
    "\n",
    "for i,elem in enumerate(alpha_group):\n",
    "    alpha=alpha_group[i]\n",
    "\n",
    "    cond_prob=[]\n",
    "    for i in doc_locations:\n",
    "        word_freq_per_class=np.sum(bow[i],axis=0)\n",
    "        total_word_per_class=np.sum(word_freq_per_class)\n",
    "        cond_prob_given_a_class=(word_freq_per_class+alpha)/(total_word_per_class+alpha*len(unique_words))\n",
    "        cond_prob.append(cond_prob_given_a_class)    \n",
    "\n",
    "    cond_prob=np.array(cond_prob)\n",
    "    \n",
    "#calculating multinomial prob for each testing sample each class, and return predicted label\n",
    "    pred=[]\n",
    "    for j,input_elem in enumerate(test_input_10): #loop over each test sample\n",
    "        prob_per_class=[]\n",
    "        for i,elem in enumerate(labels): #loop over 20 labels to compute prob given a class for each sample\n",
    "            prob=np.power(cond_prob[i],bow_test[j])\n",
    "            log_prob=np.log(prior[i])+np.sum(np.log(prob))\n",
    "            prob_per_class.append(log_prob)\n",
    "        label=np.argmax(prob_per_class)\n",
    "        pred.append(labels[label])\n",
    "\n",
    "    alpha_group_pred_rate.append(np.mean(pred == test_label_10, axis=0))\n",
    "#print(pred)\n",
    "print(alpha_group, alpha_group_pred_rate)\n",
    "\n",
    "\n",
    "#export predicitons into csv file\n",
    "#import csv\n",
    "#np.savetxt('phase_1_pred.csv',np.array(pred),delimiter='\\n',newline='\\n',fmt='%s')"
   ]
  },
  {
   "cell_type": "code",
   "execution_count": null,
   "metadata": {},
   "outputs": [],
   "source": []
  },
  {
   "cell_type": "code",
   "execution_count": null,
   "metadata": {},
   "outputs": [],
   "source": []
  },
  {
   "cell_type": "code",
   "execution_count": null,
   "metadata": {},
   "outputs": [],
   "source": []
  },
  {
   "cell_type": "code",
   "execution_count": null,
   "metadata": {},
   "outputs": [],
   "source": []
  },
  {
   "cell_type": "code",
   "execution_count": null,
   "metadata": {},
   "outputs": [],
   "source": []
  },
  {
   "cell_type": "code",
   "execution_count": null,
   "metadata": {},
   "outputs": [],
   "source": []
  },
  {
   "cell_type": "code",
   "execution_count": null,
   "metadata": {
    "scrolled": true
   },
   "outputs": [],
   "source": []
  },
  {
   "cell_type": "code",
   "execution_count": null,
   "metadata": {},
   "outputs": [],
   "source": []
  },
  {
   "cell_type": "code",
   "execution_count": null,
   "metadata": {},
   "outputs": [],
   "source": []
  }
 ],
 "metadata": {
  "kernelspec": {
   "display_name": "Python 3",
   "language": "python",
   "name": "python3"
  },
  "language_info": {
   "codemirror_mode": {
    "name": "ipython",
    "version": 3
   },
   "file_extension": ".py",
   "mimetype": "text/x-python",
   "name": "python",
   "nbconvert_exporter": "python",
   "pygments_lexer": "ipython3",
   "version": "3.7.3"
  }
 },
 "nbformat": 4,
 "nbformat_minor": 2
}
